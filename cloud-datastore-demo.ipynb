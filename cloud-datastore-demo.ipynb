{
 "cells": [
  {
   "cell_type": "code",
   "execution_count": null,
   "metadata": {},
   "outputs": [],
   "source": [
    "import sys\n",
    "!conda install --yes --prefix {sys.prefix} -c conda-forge google-api-python-client google-cloud-datastore"
   ]
  },
  {
   "cell_type": "code",
   "execution_count": null,
   "metadata": {},
   "outputs": [],
   "source": [
    "import pathlib, os\n",
    "from google.cloud import datastore\n",
    "\n",
    "key_file_name = \"modul-cloud-computing-b6cc89698062.json\"\n",
    "keypath = pathlib.Path.joinpath(pathlib.Path().absolute(), key_file_name)\n",
    "os.environ[\"GOOGLE_APPLICATION_CREDENTIALS\"] = str(keypath)\n",
    "client = datastore.Client()"
   ]
  },
  {
   "cell_type": "code",
   "execution_count": null,
   "metadata": {},
   "outputs": [],
   "source": [
    "import csv\n",
    "kdb = \"kunden_200.csv\"\n",
    "\n",
    "with open(kdb, 'r', encoding='utf-8') as csvfile:\n",
    "    csvdata = csv.reader(csvfile)\n",
    "    for i, row in enumerate(csvdata):\n",
    "        print(row)"
   ]
  }
 ],
 "metadata": {
  "kernelspec": {
   "display_name": "Python 3",
   "language": "python",
   "name": "python3"
  },
  "language_info": {
   "codemirror_mode": {
    "name": "ipython",
    "version": 3
   },
   "file_extension": ".py",
   "mimetype": "text/x-python",
   "name": "python",
   "nbconvert_exporter": "python",
   "pygments_lexer": "ipython3",
   "version": "3.8.5"
  }
 },
 "nbformat": 4,
 "nbformat_minor": 4
}
